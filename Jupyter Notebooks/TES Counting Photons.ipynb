{
 "cells": [
  {
   "cell_type": "markdown",
   "id": "3078a798-6983-44c8-bcbb-88e8a6d448cb",
   "metadata": {},
   "source": [
    "<font size = 12>Counting photons: an example </font>\n",
    "\n",
    "Authors: Leonardo Assis Morais\n",
    "\n",
    "Example notebook on how to load your raw data from the FPGA and obtain <br>\n",
    "photon-number-resolving measurements.\n",
    "\n",
    "You will need to create your own notebook to analyse your data, but <br>\n",
    "this notebook should serve as a reference.\n",
    "\n",
    "#TODO: add a .csv calibration file to the package for testing this notebook"
   ]
  },
  {
   "cell_type": "markdown",
   "id": "f25562aa-266c-4d5d-8e5a-ef3769bfe6df",
   "metadata": {},
   "source": [
    "# Getting the data\n",
    "\n",
    "You will need to have the data on your computer for this notebook <br>\n",
    "to work properly.\n",
    "\n",
    "In order to get the data, you will need to use a ftp protocol.\n",
    "\n",
    "In Mac, I can press CMD + K and type the following address: <br>\n",
    "ftp://smp-qtlab11.instrument.net.uq.edu.au\n",
    "\n",
    "This will grant you access to the folder ’captures’ where all <br>\n",
    "measurements made with the FPGA are stored. <br>\n",
    "\n",
    "Copy the folder with your data set to your machine in a <br>\n",
    "folder that you know. <br>\n",
    "\n",
    "You will need to know this address to run the notebook below."
   ]
  },
  {
   "cell_type": "code",
   "execution_count": 11,
   "id": "0fbdb089-f02e-4fd6-aceb-de4590dce677",
   "metadata": {},
   "outputs": [],
   "source": [
    "from pathlib import Path\n",
    "import csv\n",
    "import numpy as np\n",
    "import matplotlib.pyplot as plt"
   ]
  },
  {
   "cell_type": "code",
   "execution_count": 2,
   "id": "4b8f9a16-07f0-4a23-b35f-80f6207b0829",
   "metadata": {},
   "outputs": [],
   "source": [
    "%reload_ext autoreload"
   ]
  },
  {
   "cell_type": "markdown",
   "id": "4029ac6b-fdca-4e53-acc2-26fcf9ce971b",
   "metadata": {},
   "source": [
    "# Loading Data"
   ]
  },
  {
   "cell_type": "markdown",
   "id": "bb3c36a6-8937-490f-8173-c4526e4a0738",
   "metadata": {},
   "source": [
    "In this example, we do not load the characteristics of channel 1 <br> \n",
    "because they are just the heralding channel. "
   ]
  },
  {
   "cell_type": "code",
   "execution_count": 38,
   "id": "135b23e5-1848-41b6-bf72-e5c99bea4663",
   "metadata": {},
   "outputs": [],
   "source": [
    "from tes.data import CaptureData\n",
    "\n",
    "# edit the path below with the folder where the data is stored in \n",
    "# your machine\n",
    "DATAPATH = ('/Users/leo/TES_package_and_data/TES3_80mK_820nm_10khz_'\n",
    "            '50ns_2_6V_1MBW_peak2_h078df2b2/drive-pulse_BL-pulse_'\n",
    "            'threshold-slope_max')\n",
    "\n",
    "data = CaptureData(DATAPATH)\n",
    "# boolean mask for events in channel 0\n",
    "# in this example, these are photon detections\n",
    "ch0 = data.mask(0)\n",
    "# boolean mask for events in channel 1\n",
    "# in this example, this is the heralding signal\n",
    "ch1 = data.mask(1)\n",
    "\n",
    "# times register the timestamp for both channels\n",
    "times = data.time # relative time from last event\n",
    "\n",
    "# pulse height (or maximum slope) for ch0\n",
    "heights = data.rise[ch0]['height'][:,0]\n",
    "# pulse area for ch0\n",
    "areas = data.area[ch0]\n",
    "# pulse length for ch0\n",
    "lengths = data.pulse_length[ch0]\n",
    "\n",
    "# other characteristics\n",
    "# pulse minima for ch0\n",
    "minima = data.rise[ch0]['minimum'][:,0]\n",
    "# pulse rise time for ch0\n",
    "rise_time = data.rise[ch0]['rise_time'][:,0]"
   ]
  },
  {
   "cell_type": "markdown",
   "id": "8cca49f8-ed98-415d-84f3-c7a299a164c8",
   "metadata": {},
   "source": [
    "# Loading Thresholds\n",
    "\n",
    "To obtain the thresholds, use the notebook TES Calibration.ipynb, <br>\n",
    "which is also available under the TES package."
   ]
  },
  {
   "cell_type": "code",
   "execution_count": 7,
   "id": "b949a649-50e2-4595-b629-c17269f0b5bf",
   "metadata": {},
   "outputs": [
    {
     "name": "stdout",
     "output_type": "stream",
     "text": [
      "Data used for calibration: \n",
      " /Users/leo/TES_package_and_data/TES3_80mK_820nm_10khz_50ns_2_6V_1MBW_peak1_h078df2b2/drive-pulse_BL-pulse_threshold-slope_max\n"
     ]
    }
   ],
   "source": [
    "from tes.traces import get_thresholds\n",
    "\n",
    "# edit with the calibration file address\n",
    "CALIBRATION_FILE = '/Users/leo/Desktop/calibration.csv'\n",
    "threshold_list = get_thresholds(CALIBRATION_FILE)"
   ]
  },
  {
   "cell_type": "markdown",
   "id": "429f3dc1-262b-4fc9-aa62-52d833d0a633",
   "metadata": {},
   "source": [
    "# Coincidence Detections\n",
    "\n",
    "times as read from CaptureData(DATAPATH) is a vector in which each entry <br>\n",
    "is the time relative to the last event. <br>\n",
    "Using np.cumsum to calculate the cumulative sum, we construct the <br>\n",
    "abs_time vector where each entry is the time elapsed since the <br>\n",
    "beginning of the measurements.\n",
    "\n",
    "In the cell below, you will also: <br>\n",
    "- choose the herald list mask;\n",
    "- choose the time intervals for the coincidence window (in nanoseconds)\n",
    "- choose where to save the file with the coincidence counts"
   ]
  },
  {
   "cell_type": "code",
   "execution_count": 12,
   "id": "de9ef2f2-d77e-4948-8e54-72ed57550c87",
   "metadata": {},
   "outputs": [],
   "source": [
    "# timestamp for the first photon-detection event\n",
    "initial_time = times[0]\n",
    "abs_time = np.cumsum(times,dtype=np.uint64) - initial_time\n",
    "\n",
    "# for this example data set, ch1 is the heralding channel\n",
    "herald_list = ch1\n",
    "\n",
    "# coincidence window in nanoseconds\n",
    "low_end = 100 \n",
    "high_end = 700\n",
    "\n",
    "# folder where you will save coincidence data\n",
    "folder_coinc = '/Users/leo/Desktop'"
   ]
  },
  {
   "cell_type": "markdown",
   "id": "a9ef5a32-4b2b-4e41-bc51-793ca31d5fcf",
   "metadata": {},
   "source": [
    "Below, we define the coincidence mask (coinc_mask), which registers <br>\n",
    "the ocurrence of a coincidence detection - and coincidence <br>\n",
    "vector (coinc) - saves the indices where the coincidences <br>\n",
    "ocurred - for the detectors and save it on a file."
   ]
  },
  {
   "cell_type": "code",
   "execution_count": 18,
   "id": "3d351bf4-b28a-4b1c-a08e-ebb20a36dbb7",
   "metadata": {},
   "outputs": [],
   "source": [
    "fname = Path(f'{folder_coinc}/_coinc_{int(low_time):d}_{int(high_time):d}')\n",
    "# define the coincidence window\n",
    "low_time = np.floor(low_end/4)\n",
    "high_time = np.ceil(high_end/4)\n",
    "# determining the coincidence mask to find vacuum counts\n",
    "# check if a coincidence masks already exists\n",
    "# and create one if it does not\n",
    "if (fname).with_suffix('.npz').exists():\n",
    "    data = np.load((fname).with_suffix('.npz'))\n",
    "    coinc = data['coinc']\n",
    "    coinc_mask = data['coinc_mask']\n",
    "    low_time = data['low']\n",
    "    high_time = data['high']\n",
    "else:\n",
    "    coinc, coinc_mask = coincidence(abs_time, herald_list, low_time, high_time)\n",
    "    np.savez(\n",
    "        (fname),\n",
    "        coinc=coinc, coinc_mask=coinc_mask, low=low_time, high=high_time\n",
    "    )"
   ]
  },
  {
   "cell_type": "code",
   "execution_count": 19,
   "id": "b1ee036d-5fc2-462b-ae3d-ac21a8815d43",
   "metadata": {},
   "outputs": [],
   "source": [
    "\n",
    "\n",
    "\n",
    "\n"
   ]
  },
  {
   "cell_type": "code",
   "execution_count": 22,
   "id": "320b7fe9-8413-4bc4-a750-aa80f84c66c6",
   "metadata": {},
   "outputs": [
    {
     "name": "stdout",
     "output_type": "stream",
     "text": [
      "388\n",
      "The number of uncorrelated counts is [1042039     388       1       0       2       1       0       0       0\n",
      "       0       4]\n",
      "The total number of counts is [0, 2970488, 4228675, 4015581, 2860254, 1630851, 775593, 314707, 112810, 35928, 13617]\n",
      "The number of counts minus the uncorrelated counts is [-1042039  2970100  4228674  4015581  2860252  1630850   775593   314707\n",
      "   112810    35928    13613]\n"
     ]
    }
   ],
   "source": [
    "photon_counts = counting_photons(data = areas,\n",
    "                                 thresh_list = threshold_list,\n",
    "                                 vacuum = True,\n",
    "                                 coinc_mask = coinc_mask,\n",
    "                                 herald_mask = ch1\n",
    "                                 )"
   ]
  },
  {
   "cell_type": "markdown",
   "id": "d7ac1cfa-936c-4752-9313-c27aa64fdfa6",
   "metadata": {},
   "source": [
    "# Saving the counts in a .csv file\n",
    "\n",
    "Remember to change the file name."
   ]
  },
  {
   "cell_type": "code",
   "execution_count": null,
   "id": "7bd95c72-b3d6-4603-b0e5-b147a6caa8a0",
   "metadata": {},
   "outputs": [],
   "source": [
    "FILENAME = '/Users/leo/Desktop/counts_testing.csv'"
   ]
  },
  {
   "cell_type": "code",
   "execution_count": 30,
   "id": "0f4d9d3a-23bb-43cf-90e6-f4dc49c5b541",
   "metadata": {},
   "outputs": [],
   "source": [
    "with open(FILENAME, mode='w') as count_file: \n",
    "    fock_numbers = [i for i in range(0, len(threshold_list)+1)]\n",
    "    writer = csv.writer(count_file)\n",
    "    writer.writerow([str(datapath)])\n",
    "    writer.writerow([\"Correlated Counts \\n\"])\n",
    "    writer.writerow(fock_numbers)\n",
    "    writer.writerow(photon_counts[0])\n",
    "    writer.writerow([\"Uncorrelated Counts \\n\"])\n",
    "    writer.writerow(fock_numbers)\n",
    "    writer.writerow(photon_counts[1])"
   ]
  },
  {
   "cell_type": "markdown",
   "id": "ca1a7070-faeb-4e54-b2d4-f37c102c9f7b",
   "metadata": {},
   "source": [
    "# Reading data\n",
    "\n",
    "To test the previous section, we read the data saved on the .csv file <br>\n",
    "and plot it below.\n",
    "\n",
    "Remember to check the file path when running this cell."
   ]
  },
  {
   "cell_type": "code",
   "execution_count": 31,
   "id": "627182e6-6e84-4238-96ca-29766841001a",
   "metadata": {},
   "outputs": [],
   "source": [
    "FILEPATH = '/Users/leo/Desktop/counts_testing.csv'"
   ]
  },
  {
   "cell_type": "code",
   "execution_count": 37,
   "id": "5b7f54c1-88d8-4478-9d2a-79f8e5c64a21",
   "metadata": {},
   "outputs": [],
   "source": [
    "data_list = []\n",
    "read_correlated = []\n",
    "read_uncorrelated = []\n",
    "\n",
    "# reading data from file\n",
    "with open(FILEPATH, mode='r') as count_file:\n",
    "    csv_reader = csv.reader(count_file, delimiter=',')\n",
    "    header = next(csv_reader)\n",
    "    data_list.append(header)\n",
    "    idx = 0\n",
    "    if header != None:\n",
    "        for row in csv_reader:\n",
    "            if idx%7 == 2:\n",
    "                read_correlated.append(row)\n",
    "            if idx%7 == 5:\n",
    "                read_uncorrelated.append(row)\n",
    "            idx += 1\n",
    "\n",
    "# creating the variables to store the information appropriately\n",
    "correlated = []\n",
    "uncorrelated = []\n",
    "\n",
    "for count, element in enumerate(read_correlated):\n",
    "    correlated.append(np.array([int(idx) for \n",
    "                                idx in read_correlated[count]])\n",
    "                     )\n",
    "    uncorrelated.append(np.array([int(idx) for \n",
    "                                idx in read_uncorrelated[count]])\n",
    "                       )\n",
    "\n",
    "# inverting list so it is ordered from the lowest to highest intensity\n",
    "correlated = np.flip(correlated, axis=0)\n",
    "uncorrelated = np.flip(uncorrelated, axis=0);"
   ]
  },
  {
   "cell_type": "code",
   "execution_count": 36,
   "id": "614adebf-7929-4ee9-b1cc-067fcd505eef",
   "metadata": {},
   "outputs": [
    {
     "data": {
      "text/plain": [
       "<matplotlib.legend.Legend at 0x7f877f753cf8>"
      ]
     },
     "execution_count": 36,
     "metadata": {},
     "output_type": "execute_result"
    },
    {
     "data": {
      "image/png": "[encoded data removed]",
      "text/plain": [
       "<Figure size 720x432 with 1 Axes>"
      ]
     },
     "metadata": {
      "needs_background": "light"
     },
     "output_type": "display_data"
    }
   ],
   "source": [
    "%matplotlib inline\n",
    "from tes.traces import correct_xticks, correct_yticks\n",
    "\n",
    "fig, ax = plt.subplots(figsize=([10,6]))\n",
    "\n",
    "fock = [i for i in range(0, len(threshold_list)+1)]\n",
    "\n",
    "# plotting\n",
    "ax.scatter(fock, correlated, color='black', label='data', s=30)\n",
    "\n",
    "expy = correct_yticks(ax)\n",
    "ax.set_xlabel(r'Photon Number')\n",
    "ax.set_ylabel(r'Counts ($\\times 10^{}$)'.format(expy))\n",
    "\n",
    "ax.legend()"
   ]
  },
  {
   "cell_type": "markdown",
   "id": "3c689e81-213b-42a9-9c13-999383f4c07d",
   "metadata": {},
   "source": [
    "<font size = 12>END OF NOTEBOOK </font>"
   ]
  }
 ],
 "metadata": {
  "kernelspec": {
   "display_name": "Python 3",
   "language": "python",
   "name": "python3"
  },
  "language_info": {
   "codemirror_mode": {
    "name": "ipython",
    "version": 3
   },
   "file_extension": ".py",
   "mimetype": "text/x-python",
   "name": "python",
   "nbconvert_exporter": "python",
   "pygments_lexer": "ipython3",
   "version": "3.6.13"
  },
  "toc-autonumbering": true
 },
 "nbformat": 4,
 "nbformat_minor": 5
}
